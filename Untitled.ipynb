{
 "cells": [
  {
   "cell_type": "code",
   "execution_count": 1,
   "id": "0cf1fa59-9a44-4f62-be21-0d864c79bec9",
   "metadata": {},
   "outputs": [
    {
     "name": "stdout",
     "output_type": "stream",
     "text": [
      "Collecting kaggle\n",
      "  Downloading kaggle-1.6.17.tar.gz (82 kB)\n",
      "  Preparing metadata (setup.py): started\n",
      "  Preparing metadata (setup.py): finished with status 'done'\n",
      "Requirement already satisfied: six>=1.10 in c:\\users\\usuario\\anaconda3\\lib\\site-packages (from kaggle) (1.16.0)\n",
      "Requirement already satisfied: certifi>=2023.7.22 in c:\\users\\usuario\\anaconda3\\lib\\site-packages (from kaggle) (2024.12.14)\n",
      "Requirement already satisfied: python-dateutil in c:\\users\\usuario\\anaconda3\\lib\\site-packages (from kaggle) (2.9.0)\n",
      "Requirement already satisfied: requests in c:\\users\\usuario\\anaconda3\\lib\\site-packages (from kaggle) (2.32.3)\n",
      "Requirement already satisfied: tqdm in c:\\users\\usuario\\anaconda3\\lib\\site-packages (from kaggle) (4.66.6)\n",
      "Requirement already satisfied: python-slugify in c:\\users\\usuario\\anaconda3\\lib\\site-packages (from kaggle) (8.0.4)\n",
      "Requirement already satisfied: urllib3 in c:\\users\\usuario\\anaconda3\\lib\\site-packages (from kaggle) (2.2.3)\n",
      "Requirement already satisfied: bleach in c:\\users\\usuario\\anaconda3\\lib\\site-packages (from kaggle) (6.2.0)\n",
      "Requirement already satisfied: webencodings in c:\\users\\usuario\\anaconda3\\lib\\site-packages (from bleach->kaggle) (0.5.1)\n",
      "Requirement already satisfied: text-unidecode>=1.3 in c:\\users\\usuario\\anaconda3\\lib\\site-packages (from python-slugify->kaggle) (1.3)\n",
      "Requirement already satisfied: charset-normalizer<4,>=2 in c:\\users\\usuario\\anaconda3\\lib\\site-packages (from requests->kaggle) (3.4.0)\n",
      "Requirement already satisfied: idna<4,>=2.5 in c:\\users\\usuario\\anaconda3\\lib\\site-packages (from requests->kaggle) (3.10)\n",
      "Requirement already satisfied: colorama in c:\\users\\usuario\\anaconda3\\lib\\site-packages (from tqdm->kaggle) (0.4.6)\n",
      "Building wheels for collected packages: kaggle\n",
      "  Building wheel for kaggle (setup.py): started\n",
      "  Building wheel for kaggle (setup.py): finished with status 'done'\n",
      "  Created wheel for kaggle: filename=kaggle-1.6.17-py3-none-any.whl size=105797 sha256=fa61049eb3202c4288a38e4d320a817b2ba5424ae67651be85732dd437847296\n",
      "  Stored in directory: c:\\users\\usuario\\appdata\\local\\pip\\cache\\wheels\\ff\\55\\fb\\b27a466be754d2a06ffe0e37b248d844f090a63b51becea85d\n",
      "Successfully built kaggle\n",
      "Installing collected packages: kaggle\n",
      "Successfully installed kaggle-1.6.17\n",
      "Note: you may need to restart the kernel to use updated packages.\n"
     ]
    }
   ],
   "source": [
    "pip install kaggle"
   ]
  },
  {
   "cell_type": "code",
   "execution_count": 17,
   "id": "bc0a5a64-0ce4-4fe3-9421-87b3137e76d8",
   "metadata": {},
   "outputs": [
    {
     "ename": "SyntaxError",
     "evalue": "invalid syntax (2784228853.py, line 1)",
     "output_type": "error",
     "traceback": [
      "\u001b[1;36m  Cell \u001b[1;32mIn[17], line 1\u001b[1;36m\u001b[0m\n\u001b[1;33m    import kaggle kagglehub\u001b[0m\n\u001b[1;37m                  ^\u001b[0m\n\u001b[1;31mSyntaxError\u001b[0m\u001b[1;31m:\u001b[0m invalid syntax\n"
     ]
    }
   ],
   "source": [
    "import kaggle kagglehub\n",
    "!kaggle competitions download -c codecellml"
   ]
  },
  {
   "cell_type": "code",
   "execution_count": 11,
   "id": "8479e64f-29e4-4bfa-a7d9-ef03eefc2a7a",
   "metadata": {},
   "outputs": [
    {
     "name": "stdout",
     "output_type": "stream",
     "text": [
      "Collecting kagglehub\n",
      "  Downloading kagglehub-0.3.6-py3-none-any.whl.metadata (30 kB)\n",
      "Requirement already satisfied: packaging in c:\\users\\usuario\\anaconda3\\lib\\site-packages (from kagglehub) (23.2)\n",
      "Requirement already satisfied: requests in c:\\users\\usuario\\anaconda3\\lib\\site-packages (from kagglehub) (2.32.3)\n",
      "Requirement already satisfied: tqdm in c:\\users\\usuario\\anaconda3\\lib\\site-packages (from kagglehub) (4.66.6)\n",
      "Requirement already satisfied: charset-normalizer<4,>=2 in c:\\users\\usuario\\anaconda3\\lib\\site-packages (from requests->kagglehub) (3.4.0)\n",
      "Requirement already satisfied: idna<4,>=2.5 in c:\\users\\usuario\\anaconda3\\lib\\site-packages (from requests->kagglehub) (3.10)\n",
      "Requirement already satisfied: urllib3<3,>=1.21.1 in c:\\users\\usuario\\anaconda3\\lib\\site-packages (from requests->kagglehub) (2.2.3)\n",
      "Requirement already satisfied: certifi>=2017.4.17 in c:\\users\\usuario\\anaconda3\\lib\\site-packages (from requests->kagglehub) (2024.12.14)\n",
      "Requirement already satisfied: colorama in c:\\users\\usuario\\anaconda3\\lib\\site-packages (from tqdm->kagglehub) (0.4.6)\n",
      "Downloading kagglehub-0.3.6-py3-none-any.whl (51 kB)\n",
      "Installing collected packages: kagglehub\n",
      "Successfully installed kagglehub-0.3.6\n",
      "Note: you may need to restart the kernel to use updated packages.\n"
     ]
    }
   ],
   "source": [
    "pip install kagglehub"
   ]
  },
  {
   "cell_type": "code",
   "execution_count": 33,
   "id": "6fe4a300-1c5f-47f0-bf00-56dee3965159",
   "metadata": {},
   "outputs": [
    {
     "name": "stdout",
     "output_type": "stream",
     "text": [
      "ref                                               title                                               size  lastUpdated          downloadCount  voteCount  usabilityRating  \n",
      "------------------------------------------------  -------------------------------------------------  -----  -------------------  -------------  ---------  ---------------  \n",
      "tawfikelmetwally/employee-dataset                 Employee dataset                                    19KB  2023-09-06 18:15:55          44332        382  0.9411765        \n",
      "HRAnalyticRepository/employee-attrition-data      Employee Attrition                                 501KB  2017-04-26 18:39:14          20106        259  0.8235294        \n",
      "davinwijaya/employee-turnover                     Employee Turnover                                   17KB  2020-09-05 12:40:41          10969        102  1.0              \n",
      "patelprashant/employee-attrition                  Employee Attrition                                  50KB  2018-02-07 00:30:16          20436        157  0.8235294        \n",
      "tejashvi14/employee-future-prediction             Employee Future Prediction                          19KB  2021-10-12 07:29:57          11319        119  1.0              \n",
      "colearninglounge/employee-attrition               Employee Attrition                                  52KB  2020-08-26 03:38:50           7791         81  0.8235294        \n",
      "lainguyn123/employee-survey                       Employee Survey                                     61KB  2024-11-09 08:45:33           2976         44  1.0              \n",
      "pavansubhasht/ibm-hr-analytics-attrition-dataset  IBM HR Analytics Employee Attrition & Performance   50KB  2017-03-31 06:55:16         207163       2605  0.88235295       \n",
      "sahirmaharajj/employee-salaries-analysis          Employee Salaries Analysis                         101KB  2024-06-23 14:03:46           5076         94  1.0              \n",
      "rohitsahoo/employee                               IBM Employee Dataset                                51KB  2020-09-11 13:57:48          12634         93  1.0              \n",
      "whenamancodes/hr-employee-attrition               Employee Analysis | Attrition Report                50KB  2022-09-12 10:46:33          11340        177  1.0              \n",
      "jpmiller/employee-attrition-for-healthcare        Employee Attrition for Healthcare                  562KB  2023-02-15 18:53:07          10587        136  1.0              \n",
      "harriken/employeeturnover                         Daily Happiness & Employee Turnover                  4MB  2017-08-07 09:12:12           8959        168  0.88235295       \n",
      "thedevastator/employee-attrition-and-factors      Employee Attrition and Factors                      50KB  2023-02-11 04:31:57           9050        111  1.0              \n",
      "kmldas/hr-employee-data-descriptive-analytics     HR Employee Analytics                              787KB  2021-05-01 09:16:43           7860         64  0.85294116       \n",
      "prachi13/employeeattritionrate                    Employee-Attrition-Rate                             18KB  2022-12-20 05:04:06           3099         45  0.9411765        \n",
      "redpen12/employees-satisfaction-analysis          Employee Satisfaction Survey Data                  140KB  2023-12-08 09:35:16           6321         91  1.0              \n",
      "itssuru/hr-employee-attrition                     HR Employee Attrition                               50KB  2021-03-19 20:36:56           4752         45  0.9411765        \n",
      "stealthtechnologies/employee-attrition-dataset    Employee Attrition Classification Dataset            2MB  2024-06-11 11:25:46           4899         47  1.0              \n",
      "arashnic/hr-ana                                   HR Analytics: Employee Promotion Data              913KB  2020-12-23 16:54:03          10243         95  0.9705882        \n"
     ]
    }
   ],
   "source": [
    "!kaggle datasets list -s employee"
   ]
  },
  {
   "cell_type": "code",
   "execution_count": 35,
   "id": "78fae241-820f-49d1-8fe6-88de9c446faa",
   "metadata": {},
   "outputs": [
    {
     "name": "stdout",
     "output_type": "stream",
     "text": [
      "Dataset URL: https://www.kaggle.com/datasets/pavansubhasht/ibm-hr-analytics-attrition-dataset\n",
      "License(s): DbCL-1.0\n",
      "ibm-hr-analytics-attrition-dataset.zip: Skipping, found more recently modified local copy (use --force to force download)\n",
      "Dataset URL: https://www.kaggle.com/datasets/stealthtechnologies/employee-attrition-dataset\n",
      "License(s): apache-2.0\n",
      "employee-attrition-dataset.zip: Skipping, found more recently modified local copy (use --force to force download)\n",
      "Dataset URL: https://www.kaggle.com/datasets/thedevastator/employee-attrition-and-factors\n",
      "License(s): CC0-1.0\n",
      "employee-attrition-and-factors.zip: Skipping, found more recently modified local copy (use --force to force download)\n",
      "Dataset URL: https://www.kaggle.com/datasets/davinwijaya/employee-turnover\n",
      "License(s): CC-BY-NC-SA-4.0\n",
      "Downloading employee-turnover.zip to C:\\Users\\Usuario\\Documents\\GitHub\\employee_rotation\n",
      "\n"
     ]
    },
    {
     "name": "stderr",
     "output_type": "stream",
     "text": [
      "\n",
      "  0%|          | 0.00/17.3k [00:00<?, ?B/s]\n",
      "100%|██████████| 17.3k/17.3k [00:00<00:00, 1.41MB/s]\n"
     ]
    }
   ],
   "source": [
    "!kaggle datasets download -d pavansubhasht/ibm-hr-analytics-attrition-dataset\n",
    "!kaggle datasets download -d stealthtechnologies/employee-attrition-dataset\n",
    "!kaggle datasets download -d thedevastator/employee-attrition-and-factors\n",
    "!kaggle datasets download -d davinwijaya/employee-turnover"
   ]
  },
  {
   "cell_type": "code",
   "execution_count": 37,
   "id": "8ea124a9-51ef-46a2-8f43-751904ddb614",
   "metadata": {},
   "outputs": [
    {
     "name": "stdout",
     "output_type": "stream",
     "text": [
      "['HR_Analytics.csv.csv', 'test.csv', 'train.csv', 'turnover.csv', 'WA_Fn-UseC_-HR-Employee-Attrition.csv']\n"
     ]
    }
   ],
   "source": [
    "import os\n",
    "import zipfile\n",
    "\n",
    "datasets = [\n",
    "    \"ibm-hr-analytics-attrition-dataset.zip\",\n",
    "    \"employee-attrition-dataset.zip\",\n",
    "    \"employee-turnover.zip\",\n",
    "    \"employee-attrition-and-factors.zip\"\n",
    "]\n",
    "\n",
    "for dataset in datasets:\n",
    "    with zipfile.ZipFile(dataset, \"r\") as zip_ref:\n",
    "        zip_ref.extractall(\"./datasets\")  # Extrae los archivos en la carpeta \"datasets\"\n",
    "\n",
    "# Verificar que los archivos se extrajeron correctamente\n",
    "print(os.listdir(\"./datasets\"))\n"
   ]
  },
  {
   "cell_type": "code",
   "execution_count": 69,
   "id": "5522dae2-7381-4b4c-94cb-0ecb13cc8d88",
   "metadata": {},
   "outputs": [
    {
     "name": "stdout",
     "output_type": "stream",
     "text": [
      "✅ HR_Analytics cargado correctamente con encoding utf-8.\n",
      "✅ Test cargado correctamente con encoding utf-8.\n",
      "✅ Train cargado correctamente con encoding utf-8.\n",
      "✅ Turnover cargado correctamente con encoding ISO-8859-1.\n",
      "✅ WA_HR_Attrition cargado correctamente con encoding utf-8.\n"
     ]
    },
    {
     "data": {
      "text/plain": [
       "{'HR_Analytics': (1470, 35),\n",
       " 'Test': (14900, 24),\n",
       " 'Train': (59598, 24),\n",
       " 'Turnover': (1129, 16),\n",
       " 'WA_HR_Attrition': (1470, 35)}"
      ]
     },
     "execution_count": 69,
     "metadata": {},
     "output_type": "execute_result"
    }
   ],
   "source": [
    "# Volver a importar librerías y cargar los archivos después del reset\n",
    "import pandas as pd\n",
    "\n",
    "# Definir rutas de los archivos subidos\n",
    "file_paths = {\n",
    "    \"HR_Analytics\": \"./datasets/HR_Analytics.csv.csv\",\n",
    "    \"Test\": \"./datasets/test.csv\",\n",
    "    \"Train\": \"./datasets/train.csv\",\n",
    "    \"Turnover\": \"./datasets/turnover.csv\",\n",
    "    \"WA_HR_Attrition\": \"./datasets/WA_Fn-UseC_-HR-Employee-Attrition.csv\"\n",
    "}\n",
    "\n",
    "# Intentar leer los archivos con diferentes codificaciones para evitar errores de decodificación\n",
    "encodings = ['utf-8', 'ISO-8859-1', 'latin1', 'utf-8-sig']\n",
    "\n",
    "# Intentar cargar los datasets con la codificación adecuada\n",
    "datasets = {}\n",
    "for name, path in file_paths.items():\n",
    "    for encoding in encodings:\n",
    "        try:\n",
    "            datasets[name] = pd.read_csv(path, encoding=encoding)\n",
    "            print(f\"✅ {name} cargado correctamente con encoding {encoding}.\")\n",
    "            break  # Si se carga sin errores, salir del loop\n",
    "        except UnicodeDecodeError:\n",
    "            continue  # Si hay error, intentar con otro encoding\n",
    "\n",
    "# Mostrar las dimensiones de cada dataset cargado\n",
    "info_dict = {name: df.shape for name, df in datasets.items()}\n",
    "info_dict\n",
    "\n"
   ]
  },
  {
   "cell_type": "code",
   "execution_count": 45,
   "id": "b475bf9e-4203-45b0-9096-73a10b19ab52",
   "metadata": {},
   "outputs": [
    {
     "data": {
      "text/plain": [
       "{'HR_Analytics': ['Age',\n",
       "  'Attrition',\n",
       "  'BusinessTravel',\n",
       "  'DailyRate',\n",
       "  'Department',\n",
       "  'DistanceFromHome',\n",
       "  'Education',\n",
       "  'EducationField',\n",
       "  'EmployeeCount',\n",
       "  'EmployeeNumber',\n",
       "  'EnvironmentSatisfaction',\n",
       "  'Gender',\n",
       "  'HourlyRate',\n",
       "  'JobInvolvement',\n",
       "  'JobLevel',\n",
       "  'JobRole',\n",
       "  'JobSatisfaction',\n",
       "  'MaritalStatus',\n",
       "  'MonthlyIncome',\n",
       "  'MonthlyRate',\n",
       "  'NumCompaniesWorked',\n",
       "  'Over18',\n",
       "  'OverTime',\n",
       "  'PercentSalaryHike',\n",
       "  'PerformanceRating',\n",
       "  'RelationshipSatisfaction',\n",
       "  'StandardHours',\n",
       "  'StockOptionLevel',\n",
       "  'TotalWorkingYears',\n",
       "  'TrainingTimesLastYear',\n",
       "  'WorkLifeBalance',\n",
       "  'YearsAtCompany',\n",
       "  'YearsInCurrentRole',\n",
       "  'YearsSinceLastPromotion',\n",
       "  'YearsWithCurrManager'],\n",
       " 'Test': ['Employee ID',\n",
       "  'Age',\n",
       "  'Gender',\n",
       "  'Years at Company',\n",
       "  'Job Role',\n",
       "  'Monthly Income',\n",
       "  'Work-Life Balance',\n",
       "  'Job Satisfaction',\n",
       "  'Performance Rating',\n",
       "  'Number of Promotions',\n",
       "  'Overtime',\n",
       "  'Distance from Home',\n",
       "  'Education Level',\n",
       "  'Marital Status',\n",
       "  'Number of Dependents',\n",
       "  'Job Level',\n",
       "  'Company Size',\n",
       "  'Company Tenure',\n",
       "  'Remote Work',\n",
       "  'Leadership Opportunities',\n",
       "  'Innovation Opportunities',\n",
       "  'Company Reputation',\n",
       "  'Employee Recognition',\n",
       "  'Attrition'],\n",
       " 'Train': ['Employee ID',\n",
       "  'Age',\n",
       "  'Gender',\n",
       "  'Years at Company',\n",
       "  'Job Role',\n",
       "  'Monthly Income',\n",
       "  'Work-Life Balance',\n",
       "  'Job Satisfaction',\n",
       "  'Performance Rating',\n",
       "  'Number of Promotions',\n",
       "  'Overtime',\n",
       "  'Distance from Home',\n",
       "  'Education Level',\n",
       "  'Marital Status',\n",
       "  'Number of Dependents',\n",
       "  'Job Level',\n",
       "  'Company Size',\n",
       "  'Company Tenure',\n",
       "  'Remote Work',\n",
       "  'Leadership Opportunities',\n",
       "  'Innovation Opportunities',\n",
       "  'Company Reputation',\n",
       "  'Employee Recognition',\n",
       "  'Attrition'],\n",
       " 'Turnover': ['stag',\n",
       "  'event',\n",
       "  'gender',\n",
       "  'age',\n",
       "  'industry',\n",
       "  'profession',\n",
       "  'traffic',\n",
       "  'coach',\n",
       "  'head_gender',\n",
       "  'greywage',\n",
       "  'way',\n",
       "  'extraversion',\n",
       "  'independ',\n",
       "  'selfcontrol',\n",
       "  'anxiety',\n",
       "  'novator'],\n",
       " 'WA_HR_Attrition': ['Age',\n",
       "  'Attrition',\n",
       "  'BusinessTravel',\n",
       "  'DailyRate',\n",
       "  'Department',\n",
       "  'DistanceFromHome',\n",
       "  'Education',\n",
       "  'EducationField',\n",
       "  'EmployeeCount',\n",
       "  'EmployeeNumber',\n",
       "  'EnvironmentSatisfaction',\n",
       "  'Gender',\n",
       "  'HourlyRate',\n",
       "  'JobInvolvement',\n",
       "  'JobLevel',\n",
       "  'JobRole',\n",
       "  'JobSatisfaction',\n",
       "  'MaritalStatus',\n",
       "  'MonthlyIncome',\n",
       "  'MonthlyRate',\n",
       "  'NumCompaniesWorked',\n",
       "  'Over18',\n",
       "  'OverTime',\n",
       "  'PercentSalaryHike',\n",
       "  'PerformanceRating',\n",
       "  'RelationshipSatisfaction',\n",
       "  'StandardHours',\n",
       "  'StockOptionLevel',\n",
       "  'TotalWorkingYears',\n",
       "  'TrainingTimesLastYear',\n",
       "  'WorkLifeBalance',\n",
       "  'YearsAtCompany',\n",
       "  'YearsInCurrentRole',\n",
       "  'YearsSinceLastPromotion',\n",
       "  'YearsWithCurrManager']}"
      ]
     },
     "execution_count": 45,
     "metadata": {},
     "output_type": "execute_result"
    }
   ],
   "source": [
    "# Obtener los nombres de las columnas de cada dataset\n",
    "columnas_por_dataset = {name: df.columns.tolist() for name, df in datasets.items()}\n",
    "\n",
    "# Mostrar las columnas de cada dataset para identificar variables comunes y exclusivas\n",
    "columnas_por_dataset\n"
   ]
  },
  {
   "cell_type": "code",
   "execution_count": 71,
   "id": "36f7258b-41a7-43b4-8454-6fa846edbb42",
   "metadata": {},
   "outputs": [
    {
     "data": {
      "text/plain": [
       "(78567, 112)"
      ]
     },
     "execution_count": 71,
     "metadata": {},
     "output_type": "execute_result"
    }
   ],
   "source": [
    "# Step 1: Ensure all datasets have a proper Employee_ID before merging\n",
    "for dataset_name, df in datasets.items():\n",
    "    if \"Employee_ID\" not in df.columns:\n",
    "        df[\"Employee_ID\"] = dataset_name[:3].upper() + \"_\" + df.index.astype(str)\n",
    "\n",
    "# Step 2: Merge Train and Test first (keeping Employee_ID unchanged)\n",
    "merged_df = pd.concat([datasets[\"Train\"], datasets[\"Test\"]], ignore_index=True)\n",
    "\n",
    "# Step 3: Merge remaining datasets while ensuring a standardized unique ID\n",
    "other_datasets = [\"HR_Analytics\", \"WA_HR_Attrition\", \"Turnover\"]\n",
    "\n",
    "for dataset_name in other_datasets:\n",
    "    df = datasets[dataset_name].copy()\n",
    "    \n",
    "    # Ensure Employee_ID exists\n",
    "    if \"Employee_ID\" not in df.columns:\n",
    "        df[\"Employee_ID\"] = dataset_name[:3].upper() + \"_\" + df.index.astype(str)\n",
    "    \n",
    "    # Merge datasets on Employee_ID\n",
    "    merged_df = pd.merge(merged_df, df, on=\"Employee_ID\", how=\"outer\", suffixes=(\"\", f\"_{dataset_name}\"))\n",
    "\n",
    "# Generate a new standardized unique Employee ID\n",
    "merged_df[\"New_Employee_ID\"] = \"EMP_\" + merged_df.index.astype(str)\n",
    "\n",
    "# Verify final dataset structure\n",
    "merged_df.shape\n",
    "\n",
    "\n"
   ]
  },
  {
   "cell_type": "code",
   "execution_count": 73,
   "id": "4314a10c-e74c-48b7-848d-d9a60bcaa15b",
   "metadata": {},
   "outputs": [
    {
     "data": {
      "text/plain": [
       "(78567, 0)"
      ]
     },
     "execution_count": 73,
     "metadata": {},
     "output_type": "execute_result"
    }
   ],
   "source": [
    "# Check uniqueness of the New_Employee_ID column again\n",
    "unique_ids_count = merged_df[\"New_Employee_ID\"].nunique()\n",
    "total_rows = merged_df.shape[0]\n",
    "\n",
    "# Verify if there are duplicate IDs\n",
    "duplicate_ids = total_rows - unique_ids_count\n",
    "\n",
    "# Display results\n",
    "unique_ids_count, duplicate_ids\n",
    "\n"
   ]
  },
  {
   "cell_type": "code",
   "execution_count": 75,
   "id": "6d3439d4-6a63-4c97-850d-27e4d79cea10",
   "metadata": {},
   "outputs": [
    {
     "data": {
      "text/plain": [
       "novator                     77438\n",
       "coach                       77438\n",
       "stag                        77438\n",
       "event                       77438\n",
       "gender                      77438\n",
       "                            ...  \n",
       "Innovation Opportunities     4069\n",
       "Company Reputation           4069\n",
       "Employee Recognition         4069\n",
       "Attrition                    4069\n",
       "Employee ID                  4069\n",
       "Length: 110, dtype: int64"
      ]
     },
     "execution_count": 75,
     "metadata": {},
     "output_type": "execute_result"
    }
   ],
   "source": [
    "# Step 1: Check for missing values in the merged dataset\n",
    "missing_values = merged_df.isnull().sum()\n",
    "missing_values = missing_values[missing_values > 0].sort_values(ascending=False)\n",
    "\n",
    "# Display columns with missing values and their count\n",
    "missing_values\n"
   ]
  },
  {
   "cell_type": "code",
   "execution_count": 77,
   "id": "c61d879e-9171-4bde-8160-8b9281346634",
   "metadata": {},
   "outputs": [
    {
     "data": {
      "text/plain": [
       "Employee ID                 4069\n",
       "Work-Life Balance           4069\n",
       "Job Satisfaction            4069\n",
       "Performance Rating          4069\n",
       "Number of Promotions        4069\n",
       "Overtime                    4069\n",
       "Education Level             4069\n",
       "Marital Status              4069\n",
       "Number of Dependents        4069\n",
       "Job Level                   4069\n",
       "Company Tenure              4069\n",
       "Remote Work                 4069\n",
       "Leadership Opportunities    4069\n",
       "Innovation Opportunities    4069\n",
       "Company Reputation          4069\n",
       "dtype: int64"
      ]
     },
     "execution_count": 77,
     "metadata": {},
     "output_type": "execute_result"
    }
   ],
   "source": [
    "# 1️⃣ Remove columns with more than 95% missing values\n",
    "threshold = 0.95 * len(merged_df)\n",
    "columns_to_drop = missing_values[missing_values > threshold].index\n",
    "\n",
    "merged_df.drop(columns=columns_to_drop, inplace=True)\n",
    "\n",
    "# 2️⃣ Impute missing values in key variables\n",
    "# Impute numerical columns with median\n",
    "numeric_vars = [\"Age\", \"Years at Company\", \"Monthly Income\", \"Distance from Home\"]\n",
    "for col in numeric_vars:\n",
    "    if col in merged_df.columns:\n",
    "        merged_df[col] = merged_df[col].fillna(merged_df[col].median())\n",
    "\n",
    "# Impute categorical columns with mode (most frequent value)\n",
    "categorical_vars = [\"Gender\", \"Attrition\", \"Company Size\", \"Job Role\", \"Employee Recognition\"]\n",
    "for col in categorical_vars:\n",
    "    if col in merged_df.columns:\n",
    "        merged_df[col] = merged_df[col].fillna(merged_df[col].mode()[0])\n",
    "\n",
    "# Verify remaining missing values\n",
    "remaining_missing_values = merged_df.isnull().sum()\n",
    "remaining_missing_values = remaining_missing_values[remaining_missing_values > 0]\n",
    "\n",
    "remaining_missing_values\n"
   ]
  },
  {
   "cell_type": "code",
   "execution_count": 79,
   "id": "47566093-12b4-4cff-b744-e5b362bf0bfb",
   "metadata": {},
   "outputs": [
    {
     "name": "stderr",
     "output_type": "stream",
     "text": [
      "C:\\Users\\Usuario\\AppData\\Local\\Temp\\ipykernel_50164\\3400435516.py:11: FutureWarning: A value is trying to be set on a copy of a DataFrame or Series through chained assignment using an inplace method.\n",
      "The behavior will change in pandas 3.0. This inplace method will never work because the intermediate object on which we are setting values always behaves as a copy.\n",
      "\n",
      "For example, when doing 'df[col].method(value, inplace=True)', try using 'df.method({col: value}, inplace=True)' or df[col] = df[col].method(value) instead, to perform the operation inplace on the original object.\n",
      "\n",
      "\n",
      "  merged_df[col].fillna(merged_df[col].mode()[0], inplace=True)\n"
     ]
    },
    {
     "data": {
      "text/plain": [
       "Employee ID    4069\n",
       "dtype: int64"
      ]
     },
     "execution_count": 79,
     "metadata": {},
     "output_type": "execute_result"
    }
   ],
   "source": [
    "# Impute remaining categorical variables with the mode (most frequent value)\n",
    "remaining_categorical_vars = [\n",
    "    \"Work-Life Balance\", \"Job Satisfaction\", \"Performance Rating\", \"Number of Promotions\",\n",
    "    \"Overtime\", \"Education Level\", \"Marital Status\", \"Number of Dependents\",\n",
    "    \"Job Level\", \"Company Tenure\", \"Remote Work\", \"Leadership Opportunities\",\n",
    "    \"Innovation Opportunities\", \"Company Reputation\"\n",
    "]\n",
    "\n",
    "for col in remaining_categorical_vars:\n",
    "    if col in merged_df.columns:\n",
    "        merged_df[col].fillna(merged_df[col].mode()[0], inplace=True)\n",
    "\n",
    "# Verify if any missing values remain\n",
    "final_check_missing_values = merged_df.isnull().sum()\n",
    "final_check_missing_values = final_check_missing_values[final_check_missing_values > 0]\n",
    "\n",
    "final_check_missing_values\n"
   ]
  },
  {
   "cell_type": "code",
   "execution_count": null,
   "id": "e454c2b1-c575-4719-9102-1ff749cf6f87",
   "metadata": {},
   "outputs": [],
   "source": []
  }
 ],
 "metadata": {
  "kernelspec": {
   "display_name": "Python 3 (ipykernel)",
   "language": "python",
   "name": "python3"
  },
  "language_info": {
   "codemirror_mode": {
    "name": "ipython",
    "version": 3
   },
   "file_extension": ".py",
   "mimetype": "text/x-python",
   "name": "python",
   "nbconvert_exporter": "python",
   "pygments_lexer": "ipython3",
   "version": "3.11.10"
  }
 },
 "nbformat": 4,
 "nbformat_minor": 5
}
